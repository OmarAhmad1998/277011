{
  "cells": [
    {
      "cell_type": "markdown",
      "metadata": {
        "id": "uDxL9lQhB7L0"
      },
      "source": [
        "### **Importing the libraries**"
      ]
    },
    {
      "cell_type": "code",
      "execution_count": 1,
      "metadata": {
        "id": "T6YdSxpIB7Tc"
      },
      "outputs": [],
      "source": [
        "import pandas as pd\n",
        "import numpy as np\n",
        "import matplotlib.pyplot as plt\n",
        "import seaborn as sns\n",
        "\n",
        "import warnings\n",
        "warnings.filterwarnings('ignore')"
      ]
    },
    {
      "cell_type": "markdown",
      "metadata": {
        "id": "NiOVBOK_m_vD"
      },
      "source": [
        "#### **Loading the dataset**"
      ]
    },
    {
      "cell_type": "code",
      "execution_count": 2,
      "metadata": {
        "id": "pv6pAaifnDt4"
      },
      "outputs": [],
      "source": [
        "data = pd.read_csv('credit_prediction.csv')"
      ]
    },
    {
      "cell_type": "markdown",
      "metadata": {
        "id": "7Loja1PLB7ag"
      },
      "source": [
        "#### **Explantory Data Analysis - EDA**"
      ]
    },
    {
      "cell_type": "markdown",
      "metadata": {
        "id": "wwrcTCeLmw7T"
      },
      "source": [
        "##### **Extracting info about the dataset**"
      ]
    },
    {
      "cell_type": "code",
      "execution_count": null,
      "metadata": {
        "id": "9bPKqG0Pm7Q2"
      },
      "outputs": [],
      "source": [
        "data.head()"
      ]
    },
    {
      "cell_type": "code",
      "execution_count": null,
      "metadata": {
        "id": "qurn5ouKnX0Z"
      },
      "outputs": [],
      "source": [
        "data.tail()"
      ]
    },
    {
      "cell_type": "code",
      "execution_count": null,
      "metadata": {
        "id": "Z3VC-H-hnxMN"
      },
      "outputs": [],
      "source": [
        "# looking at the types data in the dataset\n",
        "data.dtypes"
      ]
    },
    {
      "cell_type": "markdown",
      "metadata": {
        "id": "eWp0TpSqpeEp"
      },
      "source": [
        "##### **Geeting the unique values of each categorical variable**"
      ]
    },
    {
      "cell_type": "code",
      "execution_count": null,
      "metadata": {
        "id": "DVHN7fAVoas7"
      },
      "outputs": [],
      "source": [
        "data.Occupation.unique()"
      ]
    },
    {
      "cell_type": "code",
      "execution_count": null,
      "metadata": {
        "id": "ybOEWHwWpqvg"
      },
      "outputs": [],
      "source": [
        "data.Type_of_Loan.unique()"
      ]
    },
    {
      "cell_type": "code",
      "execution_count": null,
      "metadata": {
        "id": "fPyjQCC7prLB"
      },
      "outputs": [],
      "source": [
        "data.Credit_Mix.unique()"
      ]
    },
    {
      "cell_type": "code",
      "execution_count": null,
      "metadata": {
        "id": "BRctR9x6p9af"
      },
      "outputs": [],
      "source": [
        "data.Payment_of_Min_Amount.unique()"
      ]
    },
    {
      "cell_type": "code",
      "execution_count": null,
      "metadata": {
        "id": "SjKsa1t-qD_M"
      },
      "outputs": [],
      "source": [
        "data.Payment_Behaviour.unique()"
      ]
    },
    {
      "cell_type": "code",
      "execution_count": null,
      "metadata": {
        "id": "2bDMDP4UqMQl"
      },
      "outputs": [],
      "source": [
        "data.Credit_Score.unique()"
      ]
    },
    {
      "cell_type": "code",
      "execution_count": 4,
      "metadata": {
        "id": "rgQ-c1ajpreW"
      },
      "outputs": [],
      "source": [
        "# storing the categorical variables using a list comprehension for later use\n",
        "categorical_data = [x for x in data.columns if data[x].dtypes == object]"
      ]
    },
    {
      "cell_type": "code",
      "execution_count": null,
      "metadata": {
        "id": "n-XZ4fGYpr4B"
      },
      "outputs": [],
      "source": [
        "# looking at the description of the dataset\n",
        "data.describe()"
      ]
    },
    {
      "cell_type": "markdown",
      "metadata": {
        "id": "SX5FOYuq2e2t"
      },
      "source": [
        "##### **Imputing missing values and cleaning up the dataset**"
      ]
    },
    {
      "cell_type": "code",
      "execution_count": 5,
      "metadata": {
        "id": "cLXsF5id2jbT"
      },
      "outputs": [],
      "source": [
        "def remove_NaN(df):\n",
        "   \n",
        "   categorical_columns = list(df.select_dtypes(include = object))\n",
        "   numeric_columns = list(df.select_dtypes(exclude = object))\n",
        "   \n",
        "   df_categorical = df[categorical_data].fillna('')\n",
        "   df_numeric = df[numeric_columns].fillna(0)\n",
        "   \n",
        "   return df_numeric.join(df_categorical)\n",
        "\n",
        "data_clean = remove_NaN(data)"
      ]
    },
    {
      "cell_type": "markdown",
      "metadata": {
        "id": "FmYC48dnB7ol"
      },
      "source": [
        "#### **EDA - Plots and Graphs**"
      ]
    },
    {
      "cell_type": "code",
      "execution_count": 51,
      "metadata": {
        "colab": {
          "base_uri": "https://localhost:8080/",
          "height": 296
        },
        "id": "2-Nckhezt3mo",
        "outputId": "374e060a-0aa1-4ed8-eb79-898ea3eb50e4"
      },
      "outputs": [
        {
          "data": {
            "text/plain": [
              "<matplotlib.axes._subplots.AxesSubplot at 0x7f8aa64e9550>"
            ]
          },
          "execution_count": 51,
          "metadata": {},
          "output_type": "execute_result"
        },
        {
          "data": {
            "image/png": "[encoded data removed]",
            "text/plain": [
              "<Figure size 432x288 with 1 Axes>"
            ]
          },
          "metadata": {
            "needs_background": "light"
          },
          "output_type": "display_data"
        }
      ],
      "source": [
        "# looking at the plot, we can see that Age doesn't afect credit score that much\n",
        "data_clean.plot.scatter(x = 'Age', y = 'Credit_Score')"
      ]
    },
    {
      "cell_type": "code",
      "execution_count": 36,
      "metadata": {
        "colab": {
          "base_uri": "https://localhost:8080/",
          "height": 297
        },
        "id": "ztRG4EBbDDLC",
        "outputId": "3448868a-c059-44d5-a2e7-a3d86ebab501"
      },
      "outputs": [
        {
          "data": {
            "text/plain": [
              "<matplotlib.axes._subplots.AxesSubplot at 0x7f8aaf939f10>"
            ]
          },
          "execution_count": 36,
          "metadata": {},
          "output_type": "execute_result"
        },
        {
          "data": {
            "image/png": "[encoded data removed]",
            "text/plain": [
              "<Figure size 432x288 with 1 Axes>"
            ]
          },
          "metadata": {
            "needs_background": "light"
          },
          "output_type": "display_data"
        }
      ],
      "source": [
        "# looking at the plot, we can see that Annual income doesn't mean you would have a good credit score \n",
        "data_clean.plot.scatter(x = 'Annual_Income', y = 'Credit_Score')"
      ]
    },
    {
      "cell_type": "markdown",
      "metadata": {
        "id": "LZZ227jx1pyY"
      },
      "source": [
        "#### **Preprocessing the categorical variables**"
      ]
    },
    {
      "cell_type": "code",
      "execution_count": 6,
      "metadata": {
        "id": "FZuJ1ST2MbNa"
      },
      "outputs": [],
      "source": [
        "from sklearn.preprocessing import LabelEncoder\n",
        "\n",
        "def preprocess_categorical_columns(data, categorical_columns, suffix = '_encoded'):\n",
        "   \n",
        "   categorical_data = data[categorical_columns].astype(str)\n",
        "   \n",
        "   encoder = LabelEncoder()\n",
        "   \n",
        "   categorical_data_encoded = categorical_data.apply(encoder.fit_transform)\n",
        "   data_processed = data.join(categorical_data_encoded, rsuffix = suffix)\n",
        "    \n",
        "   return data_processed\n",
        "\n",
        "\n",
        "data_ready = preprocess_categorical_columns(data_clean, [x for x in data_clean.columns if data_clean[x].dtypes == object])"
      ]
    },
    {
      "cell_type": "code",
      "execution_count": 7,
      "metadata": {
        "colab": {
          "base_uri": "https://localhost:8080/",
          "height": 299
        },
        "id": "8w3PLXxuM-96",
        "outputId": "ffa4c2af-b5fa-4946-9061-3d71a53f754d"
      },
      "outputs": [
        {
          "data": {
            "text/html": [
              "<div>\n",
              "<style scoped>\n",
              "    .dataframe tbody tr th:only-of-type {\n",
              "        vertical-align: middle;\n",
              "    }\n",
              "\n",
              "    .dataframe tbody tr th {\n",
              "        vertical-align: top;\n",
              "    }\n",
              "\n",
              "    .dataframe thead th {\n",
              "        text-align: right;\n",
              "    }\n",
              "</style>\n",
              "<table border=\"1\" class=\"dataframe\">\n",
              "  <thead>\n",
              "    <tr style=\"text-align: right;\">\n",
              "      <th></th>\n",
              "      <th>id</th>\n",
              "      <th>Age</th>\n",
              "      <th>Annual_Income</th>\n",
              "      <th>Monthly_Inhand_Salary</th>\n",
              "      <th>Num_Bank_Accounts</th>\n",
              "      <th>Num_Credit_Card</th>\n",
              "      <th>Interest_Rate</th>\n",
              "      <th>Num_of_Loan</th>\n",
              "      <th>Delay_from_due_date</th>\n",
              "      <th>Num_of_Delayed_Payment</th>\n",
              "      <th>...</th>\n",
              "      <th>Credit_Utilization_Ratio</th>\n",
              "      <th>Credit_History_Age</th>\n",
              "      <th>Amount_invested_monthly</th>\n",
              "      <th>Monthly_Balance</th>\n",
              "      <th>Occupation_encoded</th>\n",
              "      <th>Type_of_Loan_encoded</th>\n",
              "      <th>Credit_Mix_encoded</th>\n",
              "      <th>Payment_of_Min_Amount_encoded</th>\n",
              "      <th>Payment_Behaviour_encoded</th>\n",
              "      <th>Credit_Score_encoded</th>\n",
              "    </tr>\n",
              "  </thead>\n",
              "  <tbody>\n",
              "    <tr>\n",
              "      <th>0</th>\n",
              "      <td>0</td>\n",
              "      <td>23.0</td>\n",
              "      <td>19114.12</td>\n",
              "      <td>1824.843333</td>\n",
              "      <td>3.0</td>\n",
              "      <td>4.0</td>\n",
              "      <td>3.0</td>\n",
              "      <td>4.0</td>\n",
              "      <td>3.0</td>\n",
              "      <td>7.0</td>\n",
              "      <td>...</td>\n",
              "      <td>26.822620</td>\n",
              "      <td>265.0</td>\n",
              "      <td>80.415295</td>\n",
              "      <td>312.494089</td>\n",
              "      <td>13</td>\n",
              "      <td>129</td>\n",
              "      <td>2</td>\n",
              "      <td>2</td>\n",
              "      <td>0</td>\n",
              "      <td>0</td>\n",
              "    </tr>\n",
              "    <tr>\n",
              "      <th>1</th>\n",
              "      <td>1</td>\n",
              "      <td>23.0</td>\n",
              "      <td>0.00</td>\n",
              "      <td>1824.843333</td>\n",
              "      <td>3.0</td>\n",
              "      <td>4.0</td>\n",
              "      <td>3.0</td>\n",
              "      <td>4.0</td>\n",
              "      <td>-1.0</td>\n",
              "      <td>4.0</td>\n",
              "      <td>...</td>\n",
              "      <td>0.000000</td>\n",
              "      <td>266.0</td>\n",
              "      <td>118.280222</td>\n",
              "      <td>284.629162</td>\n",
              "      <td>13</td>\n",
              "      <td>129</td>\n",
              "      <td>2</td>\n",
              "      <td>2</td>\n",
              "      <td>4</td>\n",
              "      <td>0</td>\n",
              "    </tr>\n",
              "    <tr>\n",
              "      <th>2</th>\n",
              "      <td>2</td>\n",
              "      <td>23.0</td>\n",
              "      <td>19114.12</td>\n",
              "      <td>1824.843333</td>\n",
              "      <td>3.0</td>\n",
              "      <td>4.0</td>\n",
              "      <td>3.0</td>\n",
              "      <td>0.0</td>\n",
              "      <td>3.0</td>\n",
              "      <td>7.0</td>\n",
              "      <td>...</td>\n",
              "      <td>28.609352</td>\n",
              "      <td>267.0</td>\n",
              "      <td>81.699521</td>\n",
              "      <td>331.209863</td>\n",
              "      <td>13</td>\n",
              "      <td>129</td>\n",
              "      <td>2</td>\n",
              "      <td>2</td>\n",
              "      <td>5</td>\n",
              "      <td>0</td>\n",
              "    </tr>\n",
              "    <tr>\n",
              "      <th>3</th>\n",
              "      <td>3</td>\n",
              "      <td>23.0</td>\n",
              "      <td>19114.12</td>\n",
              "      <td>1824.843333</td>\n",
              "      <td>0.0</td>\n",
              "      <td>4.0</td>\n",
              "      <td>3.0</td>\n",
              "      <td>4.0</td>\n",
              "      <td>5.0</td>\n",
              "      <td>4.0</td>\n",
              "      <td>...</td>\n",
              "      <td>31.377862</td>\n",
              "      <td>268.0</td>\n",
              "      <td>199.458074</td>\n",
              "      <td>223.451310</td>\n",
              "      <td>13</td>\n",
              "      <td>129</td>\n",
              "      <td>2</td>\n",
              "      <td>2</td>\n",
              "      <td>6</td>\n",
              "      <td>0</td>\n",
              "    </tr>\n",
              "    <tr>\n",
              "      <th>4</th>\n",
              "      <td>4</td>\n",
              "      <td>23.0</td>\n",
              "      <td>19114.12</td>\n",
              "      <td>1824.843333</td>\n",
              "      <td>3.0</td>\n",
              "      <td>4.0</td>\n",
              "      <td>3.0</td>\n",
              "      <td>4.0</td>\n",
              "      <td>0.0</td>\n",
              "      <td>4.0</td>\n",
              "      <td>...</td>\n",
              "      <td>24.797347</td>\n",
              "      <td>269.0</td>\n",
              "      <td>41.420153</td>\n",
              "      <td>341.489231</td>\n",
              "      <td>0</td>\n",
              "      <td>129</td>\n",
              "      <td>2</td>\n",
              "      <td>2</td>\n",
              "      <td>2</td>\n",
              "      <td>0</td>\n",
              "    </tr>\n",
              "  </tbody>\n",
              "</table>\n",
              "<p>5 rows × 23 columns</p>\n",
              "</div>"
            ],
            "text/plain": [
              "   id   Age  Annual_Income  Monthly_Inhand_Salary  Num_Bank_Accounts  \\\n",
              "0   0  23.0       19114.12            1824.843333                3.0   \n",
              "1   1  23.0           0.00            1824.843333                3.0   \n",
              "2   2  23.0       19114.12            1824.843333                3.0   \n",
              "3   3  23.0       19114.12            1824.843333                0.0   \n",
              "4   4  23.0       19114.12            1824.843333                3.0   \n",
              "\n",
              "   Num_Credit_Card  Interest_Rate  Num_of_Loan  Delay_from_due_date  \\\n",
              "0              4.0            3.0          4.0                  3.0   \n",
              "1              4.0            3.0          4.0                 -1.0   \n",
              "2              4.0            3.0          0.0                  3.0   \n",
              "3              4.0            3.0          4.0                  5.0   \n",
              "4              4.0            3.0          4.0                  0.0   \n",
              "\n",
              "   Num_of_Delayed_Payment  ...  Credit_Utilization_Ratio  Credit_History_Age  \\\n",
              "0                     7.0  ...                 26.822620               265.0   \n",
              "1                     4.0  ...                  0.000000               266.0   \n",
              "2                     7.0  ...                 28.609352               267.0   \n",
              "3                     4.0  ...                 31.377862               268.0   \n",
              "4                     4.0  ...                 24.797347               269.0   \n",
              "\n",
              "   Amount_invested_monthly  Monthly_Balance  Occupation_encoded  \\\n",
              "0                80.415295       312.494089                  13   \n",
              "1               118.280222       284.629162                  13   \n",
              "2                81.699521       331.209863                  13   \n",
              "3               199.458074       223.451310                  13   \n",
              "4                41.420153       341.489231                   0   \n",
              "\n",
              "   Type_of_Loan_encoded  Credit_Mix_encoded  Payment_of_Min_Amount_encoded  \\\n",
              "0                   129                   2                              2   \n",
              "1                   129                   2                              2   \n",
              "2                   129                   2                              2   \n",
              "3                   129                   2                              2   \n",
              "4                   129                   2                              2   \n",
              "\n",
              "   Payment_Behaviour_encoded  Credit_Score_encoded  \n",
              "0                          0                     0  \n",
              "1                          4                     0  \n",
              "2                          5                     0  \n",
              "3                          6                     0  \n",
              "4                          2                     0  \n",
              "\n",
              "[5 rows x 23 columns]"
            ]
          },
          "execution_count": 7,
          "metadata": {},
          "output_type": "execute_result"
        }
      ],
      "source": [
        "data_ready = data_ready.drop(columns = list(data_ready.select_dtypes(include = object)))\n",
        "\n",
        "data_ready.head()"
      ]
    },
    {
      "cell_type": "markdown",
      "metadata": {
        "id": "87Zkfy_CB72A"
      },
      "source": [
        "#### **Generating Train, Test, and Validation Sets**"
      ]
    },
    {
      "cell_type": "code",
      "execution_count": 8,
      "metadata": {
        "id": "HFKZtpO3B78h"
      },
      "outputs": [],
      "source": [
        "from sklearn.model_selection import train_test_split\n",
        "from sklearn.preprocessing import StandardScaler\n",
        "from sklearn.preprocessing import KBinsDiscretizer\n",
        "\n",
        "\n",
        "def generate_sets(dataframe, target_column, train_size, test_size):\n",
        "   \n",
        "   X = dataframe.drop(columns = [target_column])\n",
        "   y = dataframe[target_column]\n",
        "   \n",
        "   x_train, x_test, y_train, y_test = train_test_split(X, y, test_size = test_size, train_size = train_size, random_state = 42)\n",
        "   x_train, x_val, y_train, y_val = train_test_split(x_train, y_train, test_size = 0.25)\n",
        "   \n",
        "   # bin the credit score into 3 classes\n",
        "   discretizer = KBinsDiscretizer(n_bins = 3, encode = 'ordinal')\n",
        "   y_train = discretizer.fit_transform(y_train.values.reshape(-1, 1))\n",
        "   y_test = discretizer.transform(y_test.values.reshape(-1, 1))\n",
        "   y_val = discretizer.transform(y_val.values.reshape(-1, 1))\n",
        "   \n",
        "   scalar_x = StandardScaler()\n",
        "   X_train = scalar_x.fit_transform(x_train)\n",
        "   X_test = scalar_x.transform(x_test)\n",
        "   X_val = scalar_x.transform(x_val)\n",
        "   \n",
        "   return X_train, X_test, X_val, y_train, y_test, y_val\n",
        "\n",
        "\n",
        "X_train, X_test, X_val, y_train, y_test, y_val = generate_sets(data_ready, 'Credit_Score_encoded', 0.8, 0.2)"
      ]
    },
    {
      "cell_type": "markdown",
      "metadata": {
        "id": "fAIMGkUILIEQ"
      },
      "source": [
        "##### **Building the Model with Random Forest**"
      ]
    },
    {
      "cell_type": "code",
      "execution_count": 15,
      "metadata": {
        "colab": {
          "base_uri": "https://localhost:8080/"
        },
        "id": "OCv8tm4rF-hR",
        "outputId": "78273bbc-95aa-4c49-cbd7-54901f3f0cb6"
      },
      "outputs": [
        {
          "data": {
            "text/html": [
              "<style>#sk-container-id-1 {color: black;background-color: white;}#sk-container-id-1 pre{padding: 0;}#sk-container-id-1 div.sk-toggleable {background-color: white;}#sk-container-id-1 label.sk-toggleable__label {cursor: pointer;display: block;width: 100%;margin-bottom: 0;padding: 0.3em;box-sizing: border-box;text-align: center;}#sk-container-id-1 label.sk-toggleable__label-arrow:before {content: \"▸\";float: left;margin-right: 0.25em;color: #696969;}#sk-container-id-1 label.sk-toggleable__label-arrow:hover:before {color: black;}#sk-container-id-1 div.sk-estimator:hover label.sk-toggleable__label-arrow:before {color: black;}#sk-container-id-1 div.sk-toggleable__content {max-height: 0;max-width: 0;overflow: hidden;text-align: left;background-color: #f0f8ff;}#sk-container-id-1 div.sk-toggleable__content pre {margin: 0.2em;color: black;border-radius: 0.25em;background-color: #f0f8ff;}#sk-container-id-1 input.sk-toggleable__control:checked~div.sk-toggleable__content {max-height: 200px;max-width: 100%;overflow: auto;}#sk-container-id-1 input.sk-toggleable__control:checked~label.sk-toggleable__label-arrow:before {content: \"▾\";}#sk-container-id-1 div.sk-estimator input.sk-toggleable__control:checked~label.sk-toggleable__label {background-color: #d4ebff;}#sk-container-id-1 div.sk-label input.sk-toggleable__control:checked~label.sk-toggleable__label {background-color: #d4ebff;}#sk-container-id-1 input.sk-hidden--visually {border: 0;clip: rect(1px 1px 1px 1px);clip: rect(1px, 1px, 1px, 1px);height: 1px;margin: -1px;overflow: hidden;padding: 0;position: absolute;width: 1px;}#sk-container-id-1 div.sk-estimator {font-family: monospace;background-color: #f0f8ff;border: 1px dotted black;border-radius: 0.25em;box-sizing: border-box;margin-bottom: 0.5em;}#sk-container-id-1 div.sk-estimator:hover {background-color: #d4ebff;}#sk-container-id-1 div.sk-parallel-item::after {content: \"\";width: 100%;border-bottom: 1px solid gray;flex-grow: 1;}#sk-container-id-1 div.sk-label:hover label.sk-toggleable__label {background-color: #d4ebff;}#sk-container-id-1 div.sk-serial::before {content: \"\";position: absolute;border-left: 1px solid gray;box-sizing: border-box;top: 0;bottom: 0;left: 50%;z-index: 0;}#sk-container-id-1 div.sk-serial {display: flex;flex-direction: column;align-items: center;background-color: white;padding-right: 0.2em;padding-left: 0.2em;position: relative;}#sk-container-id-1 div.sk-item {position: relative;z-index: 1;}#sk-container-id-1 div.sk-parallel {display: flex;align-items: stretch;justify-content: center;background-color: white;position: relative;}#sk-container-id-1 div.sk-item::before, #sk-container-id-1 div.sk-parallel-item::before {content: \"\";position: absolute;border-left: 1px solid gray;box-sizing: border-box;top: 0;bottom: 0;left: 50%;z-index: -1;}#sk-container-id-1 div.sk-parallel-item {display: flex;flex-direction: column;z-index: 1;position: relative;background-color: white;}#sk-container-id-1 div.sk-parallel-item:first-child::after {align-self: flex-end;width: 50%;}#sk-container-id-1 div.sk-parallel-item:last-child::after {align-self: flex-start;width: 50%;}#sk-container-id-1 div.sk-parallel-item:only-child::after {width: 0;}#sk-container-id-1 div.sk-dashed-wrapped {border: 1px dashed gray;margin: 0 0.4em 0.5em 0.4em;box-sizing: border-box;padding-bottom: 0.4em;background-color: white;}#sk-container-id-1 div.sk-label label {font-family: monospace;font-weight: bold;display: inline-block;line-height: 1.2em;}#sk-container-id-1 div.sk-label-container {text-align: center;}#sk-container-id-1 div.sk-container {/* jupyter's `normalize.less` sets `[hidden] { display: none; }` but bootstrap.min.css set `[hidden] { display: none !important; }` so we also need the `!important` here to be able to override the default hidden behavior on the sphinx rendered scikit-learn.org. See: https://github.com/scikit-learn/scikit-learn/issues/21755 */display: inline-block !important;position: relative;}#sk-container-id-1 div.sk-text-repr-fallback {display: none;}</style><div id=\"sk-container-id-1\" class=\"sk-top-container\"><div class=\"sk-text-repr-fallback\"><pre>RandomForestClassifier(n_jobs=-1)</pre><b>In a Jupyter environment, please rerun this cell to show the HTML representation or trust the notebook. <br />On GitHub, the HTML representation is unable to render, please try loading this page with nbviewer.org.</b></div><div class=\"sk-container\" hidden><div class=\"sk-item\"><div class=\"sk-estimator sk-toggleable\"><input class=\"sk-toggleable__control sk-hidden--visually\" id=\"sk-estimator-id-1\" type=\"checkbox\" checked><label for=\"sk-estimator-id-1\" class=\"sk-toggleable__label sk-toggleable__label-arrow\">RandomForestClassifier</label><div class=\"sk-toggleable__content\"><pre>RandomForestClassifier(n_jobs=-1)</pre></div></div></div></div></div>"
            ],
            "text/plain": [
              "RandomForestClassifier(n_jobs=-1)"
            ]
          },
          "execution_count": 15,
          "metadata": {},
          "output_type": "execute_result"
        }
      ],
      "source": [
        "from sklearn.ensemble import RandomForestClassifier\n",
        "\n",
        "model = RandomForestClassifier(n_jobs = -1)\n",
        "\n",
        "model.fit(X_train, y_train)"
      ]
    },
    {
      "cell_type": "code",
      "execution_count": 60,
      "metadata": {
        "colab": {
          "base_uri": "https://localhost:8080/"
        },
        "id": "jR-BG-HwNRKr",
        "outputId": "b8b4ffde-0e7c-437f-ad5e-2082b989eb55"
      },
      "outputs": [
        {
          "name": "stdout",
          "output_type": "stream",
          "text": [
            "Model Accuracy: 89%\n"
          ]
        }
      ],
      "source": [
        "print(f'Model Accuracy: {round(model.score(X_val, y_val) * 100)}%')"
      ]
    },
    {
      "attachments": {},
      "cell_type": "markdown",
      "metadata": {},
      "source": [
        "##### **Hyperparameter Tuning with 10 Fold Cross Validation**"
      ]
    },
    {
      "cell_type": "code",
      "execution_count": 61,
      "metadata": {},
      "outputs": [
        {
          "name": "stdout",
          "output_type": "stream",
          "text": [
            "Best parameters: {'n_estimators': 200, 'min_samples_split': 2, 'max_depth': None}\n",
            "Best score: 0.8932166666666668\n"
          ]
        }
      ],
      "source": [
        "from sklearn.model_selection import RandomizedSearchCV\n",
        "\n",
        "def tune_model(X_train, y_train, model, param_distributions, n_iter):\n",
        "   # define the RandomSearchCV object\n",
        "   search = RandomizedSearchCV(model, param_distributions, cv = 10, n_iter = n_iter)\n",
        "    \n",
        "   # fit the model\n",
        "   search.fit(X_train, y_train)\n",
        "    \n",
        "   # print the best parameters found\n",
        "   print(f\"Best parameters: {search.best_params_}\")\n",
        "    \n",
        "   # print the best score achieved\n",
        "   print(f\"Best score: {search.best_score_}\")\n",
        "    \n",
        "   # return the best estimator\n",
        "   return search.best_estimator_\n",
        "\n",
        "\n",
        "# define the parameter distributions to sample from\n",
        "param_distributions = {'n_estimators': [10, 50, 100, 200, 500],\n",
        "                       'max_depth': [None, 5, 10, 20],\n",
        "                       'min_samples_split': [2, 5, 10]}\n",
        "\n",
        "# call the function to tune the model\n",
        "best_model = tune_model(X_train, y_train, model, param_distributions, 10)"
      ]
    },
    {
      "cell_type": "code",
      "execution_count": 62,
      "metadata": {},
      "outputs": [
        {
          "name": "stdout",
          "output_type": "stream",
          "text": [
            "Accuracy: 0.89\n"
          ]
        }
      ],
      "source": [
        "# fit the best model to the training data\n",
        "best_model.fit(X_train, y_train)\n",
        "\n",
        "# predict the labels for the test data\n",
        "y_pred = best_model.predict(X_test)\n",
        "\n",
        "# compute the accuracy of the model\n",
        "accuracy = best_model.score(X_test, y_test)\n",
        "\n",
        "print(f\"Accuracy: {accuracy:.2f}\")"
      ]
    },
    {
      "attachments": {},
      "cell_type": "markdown",
      "metadata": {},
      "source": [
        "##### **Neural Netowrk Classification**"
      ]
    },
    {
      "cell_type": "code",
      "execution_count": 23,
      "metadata": {},
      "outputs": [
        {
          "name": "stdout",
          "output_type": "stream",
          "text": [
            "Best parameters: {'hidden_layer_sizes': (100,), 'activation': 'logistic'}\n",
            "Best score: 0.8471666666666666\n"
          ]
        }
      ],
      "source": [
        "from sklearn.model_selection import RandomizedSearchCV\n",
        "from sklearn.neural_network import MLPClassifier\n",
        "\n",
        "def tune_model(X_train, y_train, model, param_distributions, n_iter):\n",
        "   # define the RandomSearchCV object\n",
        "   search = RandomizedSearchCV(model, param_distributions, cv = 10, n_iter = n_iter, random_state = 42, n_jobs = -1)\n",
        "    \n",
        "   # fit the model\n",
        "   search.fit(X_train, y_train)\n",
        "    \n",
        "   # print the best parameters found\n",
        "   print(f\"Best parameters: {search.best_params_}\")\n",
        "    \n",
        "   # print the best score achieved\n",
        "   print(f\"Best score: {search.best_score_}\")\n",
        "    \n",
        "   # return the best estimator\n",
        "   return search.best_estimator_\n",
        "\n",
        "# define the model\n",
        "model = MLPClassifier(random_state = 42)\n",
        "\n",
        "# define the parameter distributions to sample from\n",
        "param_distributions = {'hidden_layer_sizes': [(10,), (50,), (100,), (200,), (500,)],\n",
        "                       'activation': ['identity', 'logistic', 'tanh', 'relu']}\n",
        "\n",
        "# call the function to tune the model\n",
        "best_model = tune_model(X_train, y_train, model, param_distributions, 10)"
      ]
    },
    {
      "cell_type": "code",
      "execution_count": 24,
      "metadata": {},
      "outputs": [
        {
          "name": "stdout",
          "output_type": "stream",
          "text": [
            "Accuracy: 0.84\n"
          ]
        }
      ],
      "source": [
        "# fit the best model to the training data\n",
        "best_model.fit(X_train, y_train)\n",
        "\n",
        "# predict the labels for the test data\n",
        "y_pred = best_model.predict(X_test)\n",
        "\n",
        "# compute the accuracy of the model\n",
        "accuracy = best_model.score(X_test, y_test)\n",
        "\n",
        "print(f\"Accuracy: {accuracy:.2f}\")"
      ]
    },
    {
      "attachments": {},
      "cell_type": "markdown",
      "metadata": {},
      "source": [
        "##### **AdaBoost Classifier**"
      ]
    },
    {
      "cell_type": "code",
      "execution_count": 25,
      "metadata": {},
      "outputs": [
        {
          "name": "stdout",
          "output_type": "stream",
          "text": [
            "Best parameters: {'n_estimators': 500, 'learning_rate': 1}\n",
            "Best score: 0.8512666666666668\n"
          ]
        }
      ],
      "source": [
        "from sklearn.model_selection import RandomizedSearchCV\n",
        "from sklearn.ensemble import AdaBoostClassifier\n",
        "\n",
        "def tune_model(X_train, y_train, model, param_distributions, n_iter):\n",
        "   # define the RandomSearchCV object\n",
        "   search = RandomizedSearchCV(model, param_distributions, cv = 10, n_iter = n_iter, random_state = 42, n_jobs = -1)\n",
        "    \n",
        "   # fit the model\n",
        "   search.fit(X_train, y_train)\n",
        "    \n",
        "   # print the best parameters found\n",
        "   print(f\"Best parameters: {search.best_params_}\")\n",
        "    \n",
        "   # print the best score achieved\n",
        "   print(f\"Best score: {search.best_score_}\")\n",
        "    \n",
        "   # return the best estimator\n",
        "   return search.best_estimator_\n",
        "\n",
        "# define the model\n",
        "model = AdaBoostClassifier(random_state = 42)\n",
        "\n",
        "# define the parameter distributions to sample from\n",
        "param_distributions = {'n_estimators': [50, 100, 200, 500],\n",
        "                       'learning_rate': [0.1, 1, 10]}\n",
        "\n",
        "# call the function to tune the model\n",
        "best_model_Ada = tune_model(X_train, y_train, model, param_distributions, 10)"
      ]
    },
    {
      "cell_type": "code",
      "execution_count": 26,
      "metadata": {},
      "outputs": [
        {
          "name": "stdout",
          "output_type": "stream",
          "text": [
            "Accuracy: 0.85\n"
          ]
        }
      ],
      "source": [
        "# fit the best model to the training data\n",
        "best_model_Ada.fit(X_train, y_train)\n",
        "\n",
        "# predict the labels for the test data\n",
        "y_pred = best_model_Ada.predict(X_test)\n",
        "\n",
        "# compute the accuracy of the model\n",
        "accuracy = best_model_Ada.score(X_test, y_test)\n",
        "\n",
        "print(f\"Accuracy: {accuracy:.2f}\")"
      ]
    },
    {
      "attachments": {},
      "cell_type": "markdown",
      "metadata": {},
      "source": [
        "##### **Choosing the right independant variables**"
      ]
    },
    {
      "cell_type": "code",
      "execution_count": 70,
      "metadata": {},
      "outputs": [
        {
          "name": "stdout",
          "output_type": "stream",
          "text": [
            "Accuracy: 0.90\n"
          ]
        }
      ],
      "source": [
        "from sklearn.feature_selection import SelectKBest, mutual_info_classif, f_classif\n",
        "\n",
        "# define the number of features to keep\n",
        "num_features_to_keep = 5\n",
        "\n",
        "# define the feature selection method\n",
        "# you can use mutual_info_classif or f_classif\n",
        "fs = mutual_info_classif\n",
        "\n",
        "# define the SelectKBest object\n",
        "selector = SelectKBest(fs, k = num_features_to_keep)\n",
        "\n",
        "# fit the SelectKBest object to the training data\n",
        "selector.fit(X_train, y_train)\n",
        "\n",
        "# select the top num_features_to_keep features\n",
        "X_train_pruned = selector.transform(X_train)\n",
        "X_test_pruned = selector.transform(X_test)\n",
        "\n",
        "# define the model\n",
        "model = RandomForestClassifier(n_jobs = -1, random_state = 42)\n",
        "\n",
        "# fit the model to the pruned training data\n",
        "model.fit(X_train_pruned, y_train)\n",
        "\n",
        "# predict the labels for the pruned test data\n",
        "y_pred = model.predict(X_test_pruned)\n",
        "\n",
        "# compute the accuracy of the model on the pruned test data\n",
        "accuracy = model.score(X_test_pruned, y_test)\n",
        "\n",
        "print(f\"Accuracy: {accuracy:.2f}\")"
      ]
    },
    {
      "cell_type": "code",
      "execution_count": 65,
      "metadata": {},
      "outputs": [
        {
          "name": "stdout",
          "output_type": "stream",
          "text": [
            "Accuracy: 0.82\n"
          ]
        }
      ],
      "source": [
        "# fit the best model to the training data\n",
        "best_model.fit(X_train_pruned, y_train)\n",
        "\n",
        "# predict the labels for the test data\n",
        "y_pred = best_model.predict(X_test_pruned)\n",
        "\n",
        "# compute the accuracy of the model\n",
        "accuracy = best_model.score(X_test_pruned, y_test)\n",
        "\n",
        "print(f\"Accuracy: {accuracy:.2f}\")"
      ]
    },
    {
      "cell_type": "code",
      "execution_count": 66,
      "metadata": {},
      "outputs": [
        {
          "name": "stdout",
          "output_type": "stream",
          "text": [
            "Accuracy: 0.85\n"
          ]
        }
      ],
      "source": [
        "# fit the best model to the training data\n",
        "best_model_Ada.fit(X_train, y_train)\n",
        "\n",
        "# predict the labels for the test data\n",
        "y_pred = best_model_Ada.predict(X_test)\n",
        "\n",
        "# compute the accuracy of the model\n",
        "accuracy = best_model_Ada.score(X_test, y_test)\n",
        "\n",
        "print(f\"Accuracy: {accuracy:.2f}\")"
      ]
    }
  ],
  "metadata": {
    "colab": {
      "provenance": []
    },
    "kernelspec": {
      "display_name": "Python 3",
      "language": "python",
      "name": "python3"
    },
    "language_info": {
      "codemirror_mode": {
        "name": "ipython",
        "version": 3
      },
      "file_extension": ".py",
      "mimetype": "text/x-python",
      "name": "python",
      "nbconvert_exporter": "python",
      "pygments_lexer": "ipython3",
      "version": "3.10.9 (tags/v3.10.9:1dd9be6, Dec  6 2022, 20:01:21) [MSC v.1934 64 bit (AMD64)]"
    },
    "vscode": {
      "interpreter": {
        "hash": "0f79e8fdcbaf9dbcf0fc3648b9cb4d16ab0d4577684141615d3ca72d007f4e7b"
      }
    }
  },
  "nbformat": 4,
  "nbformat_minor": 0
}
